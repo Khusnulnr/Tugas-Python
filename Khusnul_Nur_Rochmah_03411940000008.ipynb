{
 "cells": [
  {
   "cell_type": "code",
   "execution_count": 1,
   "metadata": {},
   "outputs": [
    {
     "name": "stdout",
     "output_type": "stream",
     "text": [
      "Banyak Siswa   :2\n",
      "Siswa ke-, 1\n",
      "Banyak Mata Pelajaran   :16\n",
      "Input Nilai ke 1   :80\n",
      "Input Nilai ke 2   :82\n",
      "Input Nilai ke 3   :85\n",
      "Input Nilai ke 4   :88\n",
      "Input Nilai ke 5   :87\n",
      "Input Nilai ke 6   :78\n",
      "Input Nilai ke 7   :80\n",
      "Input Nilai ke 8   :90\n",
      "Input Nilai ke 9   :89\n",
      "Input Nilai ke 10   :88\n",
      "Input Nilai ke 11   :90\n",
      "Input Nilai ke 12   :92\n",
      "Input Nilai ke 13   :97\n",
      "Input Nilai ke 14   :87\n",
      "Input Nilai ke 15   :86\n",
      "Input Nilai ke 16   :85\n",
      "Rata-rata   :  86.5\n",
      "Siswa ke-, 2\n",
      "Banyak Mata Pelajaran   :12\n",
      "Input Nilai ke 1   :78\n",
      "Input Nilai ke 2   :99\n",
      "Input Nilai ke 3   :88\n",
      "Input Nilai ke 4   :88\n",
      "Input Nilai ke 5   :78\n",
      "Input Nilai ke 6   :89\n",
      "Input Nilai ke 7   :87\n",
      "Input Nilai ke 8   :78\n",
      "Input Nilai ke 9   :77\n",
      "Input Nilai ke 10   :88\n",
      "Input Nilai ke 11   :99\n",
      "Input Nilai ke 12   :88\n",
      "Rata-rata   :  86.41666666666667\n"
     ]
    }
   ],
   "source": [
    "# program 1\n",
    "\n",
    "BanyakSiswa = int(input('Banyak Siswa   :'))\n",
    "for M in range (BanyakSiswa) :\n",
    "    print ('Siswa ke-,', M+1)\n",
    "    BanyakMP = int(input('Banyak Mata Pelajaran   :'))\n",
    "    totalnilai = 0\n",
    "    for N in range (BanyakMP):\n",
    "        nilai = int(input('Input Nilai ke %d   :' %(N+1)))\n",
    "        totalnilai=totalnilai+nilai\n",
    "    rerata=totalnilai/BanyakMP\n",
    "    print ('Rata-rata   : ', rerata)"
   ]
  },
  {
   "cell_type": "code",
   "execution_count": 15,
   "metadata": {},
   "outputs": [
    {
     "name": "stdout",
     "output_type": "stream",
     "text": [
      "Umur anda  :18\n",
      "Umur= 18 dan kriteria yaitu Remaja\n"
     ]
    }
   ],
   "source": [
    "umur=int(input('Umur anda  :'))\n",
    "\n",
    "if (umur <=13): kriteria = 'Anak anak'\n",
    "if (umur>=13): kriteria= 'Remaja'\n",
    "if (umur>=25): kriteria= 'Dewasa'\n",
    "if (umur>=35): kriteria= 'Orangtua'\n",
    "if (umur>=55): kriteria= 'Lansia'\n",
    "\n",
    "print ('Umur= %d dan kriteria yaitu %s' %(umur,kriteria))"
   ]
  },
  {
   "cell_type": "code",
   "execution_count": null,
   "metadata": {},
   "outputs": [],
   "source": []
  }
 ],
 "metadata": {
  "kernelspec": {
   "display_name": "Python 3",
   "language": "python",
   "name": "python3"
  },
  "language_info": {
   "codemirror_mode": {
    "name": "ipython",
    "version": 3
   },
   "file_extension": ".py",
   "mimetype": "text/x-python",
   "name": "python",
   "nbconvert_exporter": "python",
   "pygments_lexer": "ipython3",
   "version": "3.7.4"
  }
 },
 "nbformat": 4,
 "nbformat_minor": 2
}
